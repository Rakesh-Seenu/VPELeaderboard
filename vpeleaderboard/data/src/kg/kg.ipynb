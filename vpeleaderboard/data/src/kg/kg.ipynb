{
 "cells": [
  {
   "cell_type": "code",
   "execution_count": 8,
   "id": "250d3976",
   "metadata": {},
   "outputs": [],
   "source": [
    "import sys\n",
    "sys.path.append('../../../../vpleaderboard/data/src/kg')\n",
    "from biobridge_primekg import BioBridgePrimeKG\n",
    "\n",
    "biobridge_data = BioBridgePrimeKG(\n",
    "    primekg_dir=\"../../../data/primekg/\",\n",
    "    local_dir=\"../../../data/biobridge_primekg/\"\n",
    ")"
   ]
  },
  {
   "cell_type": "code",
   "execution_count": 9,
   "id": "d4401420",
   "metadata": {},
   "outputs": [],
   "source": [
    "# Define biobridge primekg data by providing a local directory where the data is stored\n",
    "biobridge_data = BioBridgePrimeKG(primekg_dir=\"../../../../data/primekg/\",\n",
    "                                  local_dir=\"../../../../data/biobridge_primekg/\")"
   ]
  },
  {
   "cell_type": "code",
   "execution_count": 10,
   "id": "421180e4",
   "metadata": {},
   "outputs": [
    {
     "name": "stdout",
     "output_type": "stream",
     "text": [
      "Loading PrimeKG dataset...\n",
      "Loading nodes of PrimeKG dataset ...\n",
      "Downloading node file from https://dataverse.harvard.edu/api/access/datafile/6180617\n"
     ]
    },
    {
     "name": "stderr",
     "output_type": "stream",
     "text": [
      "100%|██████████| 8.89M/8.89M [00:19<00:00, 450kiB/s] \n"
     ]
    },
    {
     "name": "stdout",
     "output_type": "stream",
     "text": [
      "Loading edges of PrimeKG dataset ...\n",
      "Downloading edge file from https://dataverse.harvard.edu/api/access/datafile/6180616\n"
     ]
    },
    {
     "name": "stderr",
     "output_type": "stream",
     "text": [
      "100%|██████████| 387M/387M [06:48<00:00, 947kiB/s]    \n"
     ]
    },
    {
     "name": "stdout",
     "output_type": "stream",
     "text": [
      "Loading data config file of BioBridgePrimeKG...\n",
      "Downloading data_config.json from https://raw.githubusercontent.com/RyanWangZf/BioBridge/refs/heads/main/data/BindData/data_config.json to ../../../../data/biobridge_primekg/...\n"
     ]
    },
    {
     "name": "stderr",
     "output_type": "stream",
     "text": [
      "1.03kiB [00:00, 511kiB/s]                 \n"
     ]
    },
    {
     "name": "stdout",
     "output_type": "stream",
     "text": [
      "Building node embeddings...\n",
      "Downloading protein.pkl from https://media.githubusercontent.com/media/RyanWangZf/BioBridge/refs/heads/main/data/embeddings/esm2b_unimo_pubmedbert/protein.pkl to ../../../../data/biobridge_primekg/embeddings...\n"
     ]
    },
    {
     "name": "stderr",
     "output_type": "stream",
     "text": [
      "100%|██████████| 197M/197M [01:12<00:00, 2.70MiB/s]   \n"
     ]
    },
    {
     "name": "stdout",
     "output_type": "stream",
     "text": [
      "Downloading mf.pkl from https://media.githubusercontent.com/media/RyanWangZf/BioBridge/refs/heads/main/data/embeddings/esm2b_unimo_pubmedbert/mf.pkl to ../../../../data/biobridge_primekg/embeddings...\n"
     ]
    },
    {
     "name": "stderr",
     "output_type": "stream",
     "text": [
      "100%|██████████| 34.3M/34.3M [00:26<00:00, 1.30MiB/s]\n"
     ]
    },
    {
     "name": "stdout",
     "output_type": "stream",
     "text": [
      "Downloading cc.pkl from https://media.githubusercontent.com/media/RyanWangZf/BioBridge/refs/heads/main/data/embeddings/esm2b_unimo_pubmedbert/cc.pkl to ../../../../data/biobridge_primekg/embeddings...\n"
     ]
    },
    {
     "name": "stderr",
     "output_type": "stream",
     "text": [
      "100%|██████████| 12.5M/12.5M [00:03<00:00, 3.70MiB/s]\n"
     ]
    },
    {
     "name": "stdout",
     "output_type": "stream",
     "text": [
      "Downloading bp.pkl from https://media.githubusercontent.com/media/RyanWangZf/BioBridge/refs/heads/main/data/embeddings/esm2b_unimo_pubmedbert/bp.pkl to ../../../../data/biobridge_primekg/embeddings...\n"
     ]
    },
    {
     "name": "stderr",
     "output_type": "stream",
     "text": [
      "100%|██████████| 85.9M/85.9M [00:34<00:00, 2.47MiB/s]\n"
     ]
    },
    {
     "name": "stdout",
     "output_type": "stream",
     "text": [
      "Downloading drug.pkl from https://media.githubusercontent.com/media/RyanWangZf/BioBridge/refs/heads/main/data/embeddings/esm2b_unimo_pubmedbert/drug.pkl to ../../../../data/biobridge_primekg/embeddings...\n"
     ]
    },
    {
     "name": "stderr",
     "output_type": "stream",
     "text": [
      "100%|██████████| 28.7M/28.7M [00:15<00:00, 1.92MiB/s]\n"
     ]
    },
    {
     "name": "stdout",
     "output_type": "stream",
     "text": [
      "Downloading disease.pkl from https://media.githubusercontent.com/media/RyanWangZf/BioBridge/refs/heads/main/data/embeddings/esm2b_unimo_pubmedbert/disease.pkl to ../../../../data/biobridge_primekg/embeddings...\n"
     ]
    },
    {
     "name": "stderr",
     "output_type": "stream",
     "text": [
      "100%|██████████| 53.1M/53.1M [00:20<00:00, 2.60MiB/s]\n"
     ]
    },
    {
     "name": "stdout",
     "output_type": "stream",
     "text": [
      "Building full triplets...\n",
      "Downloading protein.csv from https://media.githubusercontent.com/media/RyanWangZf/BioBridge/refs/heads/main/data/Processed/protein.csv to ../../../../data/biobridge_primekg/processed...\n"
     ]
    },
    {
     "name": "stderr",
     "output_type": "stream",
     "text": [
      "100%|██████████| 11.7M/11.7M [00:08<00:00, 1.36MiB/s]\n"
     ]
    },
    {
     "name": "stdout",
     "output_type": "stream",
     "text": [
      "Downloading mf.csv from https://media.githubusercontent.com/media/RyanWangZf/BioBridge/refs/heads/main/data/Processed/molecular.csv to ../../../../data/biobridge_primekg/processed...\n"
     ]
    },
    {
     "name": "stderr",
     "output_type": "stream",
     "text": [
      "100%|██████████| 2.24M/2.24M [00:00<00:00, 4.98MiB/s]\n"
     ]
    },
    {
     "name": "stdout",
     "output_type": "stream",
     "text": [
      "Downloading cc.csv from https://media.githubusercontent.com/media/RyanWangZf/BioBridge/refs/heads/main/data/Processed/cellular.csv to ../../../../data/biobridge_primekg/processed...\n"
     ]
    },
    {
     "name": "stderr",
     "output_type": "stream",
     "text": [
      "100%|██████████| 1.05M/1.05M [00:00<00:00, 3.80MiB/s]\n"
     ]
    },
    {
     "name": "stdout",
     "output_type": "stream",
     "text": [
      "Downloading bp.csv from https://media.githubusercontent.com/media/RyanWangZf/BioBridge/refs/heads/main/data/Processed/biological.csv to ../../../../data/biobridge_primekg/processed...\n"
     ]
    },
    {
     "name": "stderr",
     "output_type": "stream",
     "text": [
      "100%|██████████| 6.79M/6.79M [00:01<00:00, 4.27MiB/s]\n"
     ]
    },
    {
     "name": "stdout",
     "output_type": "stream",
     "text": [
      "Downloading drug.csv from https://media.githubusercontent.com/media/RyanWangZf/BioBridge/refs/heads/main/data/Processed/drug.csv to ../../../../data/biobridge_primekg/processed...\n"
     ]
    },
    {
     "name": "stderr",
     "output_type": "stream",
     "text": [
      "100%|██████████| 9.47M/9.47M [00:04<00:00, 2.36MiB/s]\n"
     ]
    },
    {
     "name": "stdout",
     "output_type": "stream",
     "text": [
      "Downloading disease.csv from https://media.githubusercontent.com/media/RyanWangZf/BioBridge/refs/heads/main/data/Processed/disease.csv to ../../../../data/biobridge_primekg/processed...\n"
     ]
    },
    {
     "name": "stderr",
     "output_type": "stream",
     "text": [
      "100%|██████████| 11.4M/11.4M [00:05<00:00, 1.98MiB/s]\n"
     ]
    },
    {
     "name": "stdout",
     "output_type": "stream",
     "text": [
      "Building train-test split...\n",
      "Number of 1 nodes in train: 16918\n",
      "Number of 1 nodes in test: 1879\n",
      "Number of 6 nodes in train: 6084\n",
      "Number of 6 nodes in test: 675\n",
      "Number of 2 nodes in train: 15349\n",
      "Number of 2 nodes in test: 1705\n",
      "Number of 0 nodes in train: 24669\n",
      "Number of 0 nodes in test: 2740\n",
      "Number of 5 nodes in train: 9856\n",
      "Number of 5 nodes in test: 1095\n",
      "Number of 7 nodes in train: 3610\n",
      "Number of 7 nodes in test: 401\n"
     ]
    }
   ],
   "source": [
    "# Invoke a method to load the data\n",
    "biobridge_data.load_data()"
   ]
  },
  {
   "cell_type": "code",
   "execution_count": 11,
   "id": "d4ea6ee0",
   "metadata": {},
   "outputs": [],
   "source": [
    "# Get the initial data of PrimeKG\n",
    "primekg_nodes = biobridge_data.get_primekg().get_nodes()\n",
    "primekg_edges = biobridge_data.get_primekg().get_edges()"
   ]
  },
  {
   "cell_type": "code",
   "execution_count": 12,
   "id": "eaf0fa37",
   "metadata": {},
   "outputs": [
    {
     "data": {
      "text/plain": [
       "(129375, 5)"
      ]
     },
     "execution_count": 12,
     "metadata": {},
     "output_type": "execute_result"
    }
   ],
   "source": [
    "# Check the dimensions of the PrimeKG nodes\n",
    "primekg_nodes.shape"
   ]
  },
  {
   "cell_type": "code",
   "execution_count": 13,
   "id": "be809735",
   "metadata": {},
   "outputs": [
    {
     "data": {
      "text/html": [
       "<div>\n",
       "<style scoped>\n",
       "    .dataframe tbody tr th:only-of-type {\n",
       "        vertical-align: middle;\n",
       "    }\n",
       "\n",
       "    .dataframe tbody tr th {\n",
       "        vertical-align: top;\n",
       "    }\n",
       "\n",
       "    .dataframe thead th {\n",
       "        text-align: right;\n",
       "    }\n",
       "</style>\n",
       "<table border=\"1\" class=\"dataframe\">\n",
       "  <thead>\n",
       "    <tr style=\"text-align: right;\">\n",
       "      <th></th>\n",
       "      <th>head_index</th>\n",
       "      <th>head_name</th>\n",
       "      <th>head_source</th>\n",
       "      <th>head_id</th>\n",
       "      <th>head_type</th>\n",
       "      <th>tail_index</th>\n",
       "      <th>tail_name</th>\n",
       "      <th>tail_source</th>\n",
       "      <th>tail_id</th>\n",
       "      <th>tail_type</th>\n",
       "      <th>display_relation</th>\n",
       "      <th>relation</th>\n",
       "    </tr>\n",
       "  </thead>\n",
       "  <tbody>\n",
       "    <tr>\n",
       "      <th>0</th>\n",
       "      <td>0</td>\n",
       "      <td>PHYHIP</td>\n",
       "      <td>NCBI</td>\n",
       "      <td>9796</td>\n",
       "      <td>gene/protein</td>\n",
       "      <td>8889</td>\n",
       "      <td>KIF15</td>\n",
       "      <td>NCBI</td>\n",
       "      <td>56992</td>\n",
       "      <td>gene/protein</td>\n",
       "      <td>ppi</td>\n",
       "      <td>protein_protein</td>\n",
       "    </tr>\n",
       "    <tr>\n",
       "      <th>1</th>\n",
       "      <td>1</td>\n",
       "      <td>GPANK1</td>\n",
       "      <td>NCBI</td>\n",
       "      <td>7918</td>\n",
       "      <td>gene/protein</td>\n",
       "      <td>2798</td>\n",
       "      <td>PNMA1</td>\n",
       "      <td>NCBI</td>\n",
       "      <td>9240</td>\n",
       "      <td>gene/protein</td>\n",
       "      <td>ppi</td>\n",
       "      <td>protein_protein</td>\n",
       "    </tr>\n",
       "    <tr>\n",
       "      <th>2</th>\n",
       "      <td>2</td>\n",
       "      <td>ZRSR2</td>\n",
       "      <td>NCBI</td>\n",
       "      <td>8233</td>\n",
       "      <td>gene/protein</td>\n",
       "      <td>5646</td>\n",
       "      <td>TTC33</td>\n",
       "      <td>NCBI</td>\n",
       "      <td>23548</td>\n",
       "      <td>gene/protein</td>\n",
       "      <td>ppi</td>\n",
       "      <td>protein_protein</td>\n",
       "    </tr>\n",
       "    <tr>\n",
       "      <th>3</th>\n",
       "      <td>3</td>\n",
       "      <td>NRF1</td>\n",
       "      <td>NCBI</td>\n",
       "      <td>4899</td>\n",
       "      <td>gene/protein</td>\n",
       "      <td>11592</td>\n",
       "      <td>MAN1B1</td>\n",
       "      <td>NCBI</td>\n",
       "      <td>11253</td>\n",
       "      <td>gene/protein</td>\n",
       "      <td>ppi</td>\n",
       "      <td>protein_protein</td>\n",
       "    </tr>\n",
       "    <tr>\n",
       "      <th>4</th>\n",
       "      <td>4</td>\n",
       "      <td>PI4KA</td>\n",
       "      <td>NCBI</td>\n",
       "      <td>5297</td>\n",
       "      <td>gene/protein</td>\n",
       "      <td>2122</td>\n",
       "      <td>RGS20</td>\n",
       "      <td>NCBI</td>\n",
       "      <td>8601</td>\n",
       "      <td>gene/protein</td>\n",
       "      <td>ppi</td>\n",
       "      <td>protein_protein</td>\n",
       "    </tr>\n",
       "  </tbody>\n",
       "</table>\n",
       "</div>"
      ],
      "text/plain": [
       "   head_index head_name head_source head_id     head_type  tail_index  \\\n",
       "0           0    PHYHIP        NCBI    9796  gene/protein        8889   \n",
       "1           1    GPANK1        NCBI    7918  gene/protein        2798   \n",
       "2           2     ZRSR2        NCBI    8233  gene/protein        5646   \n",
       "3           3      NRF1        NCBI    4899  gene/protein       11592   \n",
       "4           4     PI4KA        NCBI    5297  gene/protein        2122   \n",
       "\n",
       "  tail_name tail_source tail_id     tail_type display_relation  \\\n",
       "0     KIF15        NCBI   56992  gene/protein              ppi   \n",
       "1     PNMA1        NCBI    9240  gene/protein              ppi   \n",
       "2     TTC33        NCBI   23548  gene/protein              ppi   \n",
       "3    MAN1B1        NCBI   11253  gene/protein              ppi   \n",
       "4     RGS20        NCBI    8601  gene/protein              ppi   \n",
       "\n",
       "          relation  \n",
       "0  protein_protein  \n",
       "1  protein_protein  \n",
       "2  protein_protein  \n",
       "3  protein_protein  \n",
       "4  protein_protein  "
      ]
     },
     "execution_count": 13,
     "metadata": {},
     "output_type": "execute_result"
    }
   ],
   "source": [
    "# Check PrimeKG edges\n",
    "primekg_edges.head()"
   ]
  },
  {
   "cell_type": "code",
   "execution_count": 14,
   "id": "06c0b283",
   "metadata": {},
   "outputs": [
    {
     "data": {
      "text/plain": [
       "(8100498, 12)"
      ]
     },
     "execution_count": 14,
     "metadata": {},
     "output_type": "execute_result"
    }
   ],
   "source": [
    "# Check the dimensions of the PrimeKG edges\n",
    "primekg_edges.shape"
   ]
  },
  {
   "cell_type": "code",
   "execution_count": null,
   "id": "cabfec22",
   "metadata": {},
   "outputs": [],
   "source": []
  },
  {
   "cell_type": "code",
   "execution_count": null,
   "id": "fda8234b",
   "metadata": {},
   "outputs": [],
   "source": []
  },
  {
   "cell_type": "code",
   "execution_count": null,
   "id": "6170a4cf",
   "metadata": {},
   "outputs": [],
   "source": []
  },
  {
   "cell_type": "code",
   "execution_count": null,
   "id": "a1ad97ea",
   "metadata": {},
   "outputs": [],
   "source": []
  },
  {
   "cell_type": "code",
   "execution_count": null,
   "id": "1121b370",
   "metadata": {},
   "outputs": [],
   "source": []
  },
  {
   "cell_type": "code",
   "execution_count": null,
   "id": "dd60e862",
   "metadata": {},
   "outputs": [],
   "source": []
  }
 ],
 "metadata": {
  "kernelspec": {
   "display_name": "myenv",
   "language": "python",
   "name": "python3"
  },
  "language_info": {
   "codemirror_mode": {
    "name": "ipython",
    "version": 3
   },
   "file_extension": ".py",
   "mimetype": "text/x-python",
   "name": "python",
   "nbconvert_exporter": "python",
   "pygments_lexer": "ipython3",
   "version": "3.12.2"
  }
 },
 "nbformat": 4,
 "nbformat_minor": 5
}
