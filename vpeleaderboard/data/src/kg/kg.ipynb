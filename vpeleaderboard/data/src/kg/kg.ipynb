{
 "cells": [
  {
   "cell_type": "code",
   "execution_count": 1,
   "id": "250d3976",
   "metadata": {},
   "outputs": [],
   "source": [
    "import sys\n",
    "sys.path.append('../../../../vpleaderboard/data/src/kg')\n",
    "from biobridge_primekg import BioBridgePrimeKG\n",
    "\n",
    "biobridge_data = BioBridgePrimeKG(\n",
    "    primekg_dir=\"../../../data/primekg/\",\n",
    "    local_dir=\"../../../data/biobridge_primekg/\"\n",
    ")"
   ]
  },
  {
   "cell_type": "code",
   "execution_count": 9,
   "id": "d4401420",
   "metadata": {},
   "outputs": [],
   "source": [
    "# Define biobridge primekg data by providing a local directory where the data is stored\n",
    "biobridge_data = BioBridgePrimeKG(primekg_dir=\"../../../../data/primekg/\",\n",
    "                                  local_dir=\"../../../../data/biobridge_primekg/\")"
   ]
  },
  {
   "cell_type": "code",
   "execution_count": 11,
   "id": "d4ea6ee0",
   "metadata": {},
   "outputs": [],
   "source": [
    "# Get the initial data of PrimeKG\n",
    "primekg_nodes = biobridge_data.get_primekg().get_nodes()\n",
    "primekg_edges = biobridge_data.get_primekg().get_edges()"
   ]
  },
  {
   "cell_type": "code",
   "execution_count": 12,
   "id": "eaf0fa37",
   "metadata": {},
   "outputs": [
    {
     "data": {
      "text/plain": [
       "(129375, 5)"
      ]
     },
     "execution_count": 12,
     "metadata": {},
     "output_type": "execute_result"
    }
   ],
   "source": [
    "# Check the dimensions of the PrimeKG nodes\n",
    "primekg_nodes.shape"
   ]
  },
  {
   "cell_type": "code",
   "execution_count": 13,
   "id": "be809735",
   "metadata": {},
   "outputs": [
    {
     "data": {
      "text/html": [
       "<div>\n",
       "<style scoped>\n",
       "    .dataframe tbody tr th:only-of-type {\n",
       "        vertical-align: middle;\n",
       "    }\n",
       "\n",
       "    .dataframe tbody tr th {\n",
       "        vertical-align: top;\n",
       "    }\n",
       "\n",
       "    .dataframe thead th {\n",
       "        text-align: right;\n",
       "    }\n",
       "</style>\n",
       "<table border=\"1\" class=\"dataframe\">\n",
       "  <thead>\n",
       "    <tr style=\"text-align: right;\">\n",
       "      <th></th>\n",
       "      <th>head_index</th>\n",
       "      <th>head_name</th>\n",
       "      <th>head_source</th>\n",
       "      <th>head_id</th>\n",
       "      <th>head_type</th>\n",
       "      <th>tail_index</th>\n",
       "      <th>tail_name</th>\n",
       "      <th>tail_source</th>\n",
       "      <th>tail_id</th>\n",
       "      <th>tail_type</th>\n",
       "      <th>display_relation</th>\n",
       "      <th>relation</th>\n",
       "    </tr>\n",
       "  </thead>\n",
       "  <tbody>\n",
       "    <tr>\n",
       "      <th>0</th>\n",
       "      <td>0</td>\n",
       "      <td>PHYHIP</td>\n",
       "      <td>NCBI</td>\n",
       "      <td>9796</td>\n",
       "      <td>gene/protein</td>\n",
       "      <td>8889</td>\n",
       "      <td>KIF15</td>\n",
       "      <td>NCBI</td>\n",
       "      <td>56992</td>\n",
       "      <td>gene/protein</td>\n",
       "      <td>ppi</td>\n",
       "      <td>protein_protein</td>\n",
       "    </tr>\n",
       "    <tr>\n",
       "      <th>1</th>\n",
       "      <td>1</td>\n",
       "      <td>GPANK1</td>\n",
       "      <td>NCBI</td>\n",
       "      <td>7918</td>\n",
       "      <td>gene/protein</td>\n",
       "      <td>2798</td>\n",
       "      <td>PNMA1</td>\n",
       "      <td>NCBI</td>\n",
       "      <td>9240</td>\n",
       "      <td>gene/protein</td>\n",
       "      <td>ppi</td>\n",
       "      <td>protein_protein</td>\n",
       "    </tr>\n",
       "    <tr>\n",
       "      <th>2</th>\n",
       "      <td>2</td>\n",
       "      <td>ZRSR2</td>\n",
       "      <td>NCBI</td>\n",
       "      <td>8233</td>\n",
       "      <td>gene/protein</td>\n",
       "      <td>5646</td>\n",
       "      <td>TTC33</td>\n",
       "      <td>NCBI</td>\n",
       "      <td>23548</td>\n",
       "      <td>gene/protein</td>\n",
       "      <td>ppi</td>\n",
       "      <td>protein_protein</td>\n",
       "    </tr>\n",
       "    <tr>\n",
       "      <th>3</th>\n",
       "      <td>3</td>\n",
       "      <td>NRF1</td>\n",
       "      <td>NCBI</td>\n",
       "      <td>4899</td>\n",
       "      <td>gene/protein</td>\n",
       "      <td>11592</td>\n",
       "      <td>MAN1B1</td>\n",
       "      <td>NCBI</td>\n",
       "      <td>11253</td>\n",
       "      <td>gene/protein</td>\n",
       "      <td>ppi</td>\n",
       "      <td>protein_protein</td>\n",
       "    </tr>\n",
       "    <tr>\n",
       "      <th>4</th>\n",
       "      <td>4</td>\n",
       "      <td>PI4KA</td>\n",
       "      <td>NCBI</td>\n",
       "      <td>5297</td>\n",
       "      <td>gene/protein</td>\n",
       "      <td>2122</td>\n",
       "      <td>RGS20</td>\n",
       "      <td>NCBI</td>\n",
       "      <td>8601</td>\n",
       "      <td>gene/protein</td>\n",
       "      <td>ppi</td>\n",
       "      <td>protein_protein</td>\n",
       "    </tr>\n",
       "  </tbody>\n",
       "</table>\n",
       "</div>"
      ],
      "text/plain": [
       "   head_index head_name head_source head_id     head_type  tail_index  \\\n",
       "0           0    PHYHIP        NCBI    9796  gene/protein        8889   \n",
       "1           1    GPANK1        NCBI    7918  gene/protein        2798   \n",
       "2           2     ZRSR2        NCBI    8233  gene/protein        5646   \n",
       "3           3      NRF1        NCBI    4899  gene/protein       11592   \n",
       "4           4     PI4KA        NCBI    5297  gene/protein        2122   \n",
       "\n",
       "  tail_name tail_source tail_id     tail_type display_relation  \\\n",
       "0     KIF15        NCBI   56992  gene/protein              ppi   \n",
       "1     PNMA1        NCBI    9240  gene/protein              ppi   \n",
       "2     TTC33        NCBI   23548  gene/protein              ppi   \n",
       "3    MAN1B1        NCBI   11253  gene/protein              ppi   \n",
       "4     RGS20        NCBI    8601  gene/protein              ppi   \n",
       "\n",
       "          relation  \n",
       "0  protein_protein  \n",
       "1  protein_protein  \n",
       "2  protein_protein  \n",
       "3  protein_protein  \n",
       "4  protein_protein  "
      ]
     },
     "execution_count": 13,
     "metadata": {},
     "output_type": "execute_result"
    }
   ],
   "source": [
    "# Check PrimeKG edges\n",
    "primekg_edges.head()"
   ]
  },
  {
   "cell_type": "code",
   "execution_count": 14,
   "id": "06c0b283",
   "metadata": {},
   "outputs": [
    {
     "data": {
      "text/plain": [
       "(8100498, 12)"
      ]
     },
     "execution_count": 14,
     "metadata": {},
     "output_type": "execute_result"
    }
   ],
   "source": [
    "# Check the dimensions of the PrimeKG edges\n",
    "primekg_edges.shape"
   ]
  },
  {
   "cell_type": "code",
   "execution_count": null,
   "id": "cabfec22",
   "metadata": {},
   "outputs": [],
   "source": []
  },
  {
   "cell_type": "code",
   "execution_count": null,
   "id": "fda8234b",
   "metadata": {},
   "outputs": [],
   "source": []
  },
  {
   "cell_type": "code",
   "execution_count": null,
   "id": "6170a4cf",
   "metadata": {},
   "outputs": [],
   "source": []
  },
  {
   "cell_type": "code",
   "execution_count": null,
   "id": "a1ad97ea",
   "metadata": {},
   "outputs": [],
   "source": []
  },
  {
   "cell_type": "code",
   "execution_count": null,
   "id": "1121b370",
   "metadata": {},
   "outputs": [],
   "source": []
  },
  {
   "cell_type": "code",
   "execution_count": null,
   "id": "dd60e862",
   "metadata": {},
   "outputs": [],
   "source": []
  }
 ],
 "metadata": {
  "kernelspec": {
   "display_name": "myenv",
   "language": "python",
   "name": "python3"
  },
  "language_info": {
   "codemirror_mode": {
    "name": "ipython",
    "version": 3
   },
   "file_extension": ".py",
   "mimetype": "text/x-python",
   "name": "python",
   "nbconvert_exporter": "python",
   "pygments_lexer": "ipython3",
   "version": "3.12.8"
  }
 },
 "nbformat": 4,
 "nbformat_minor": 5
}
